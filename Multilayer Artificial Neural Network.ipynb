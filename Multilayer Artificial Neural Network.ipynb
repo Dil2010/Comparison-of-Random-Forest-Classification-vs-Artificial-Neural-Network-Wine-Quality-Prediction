{
 "cells": [
  {
   "cell_type": "markdown",
   "metadata": {},
   "source": [
    "## Importing the libraries"
   ]
  },
  {
   "cell_type": "code",
   "execution_count": 1,
   "metadata": {},
   "outputs": [],
   "source": [
    "import numpy as np\n",
    "import pandas as pd\n",
    "import tensorflow as tf\n",
    "import matplotlib.pyplot as plt"
   ]
  },
  {
   "cell_type": "markdown",
   "metadata": {},
   "source": [
    "## Number of Datapoints"
   ]
  },
  {
   "cell_type": "code",
   "execution_count": 2,
   "metadata": {},
   "outputs": [],
   "source": [
    "q=1500"
   ]
  },
  {
   "cell_type": "markdown",
   "metadata": {},
   "source": [
    "## Data Collecting"
   ]
  },
  {
   "cell_type": "code",
   "execution_count": 3,
   "metadata": {},
   "outputs": [
    {
     "data": {
      "text/plain": [
       "0.21769932922108254"
      ]
     },
     "execution_count": 3,
     "metadata": {},
     "output_type": "execute_result"
    }
   ],
   "source": [
    "dataset=pd.read_csv('wines.csv') \n",
    "dataset.quality.unique()\n",
    "dataset['quality'].skew()"
   ]
  },
  {
   "cell_type": "markdown",
   "metadata": {},
   "source": [
    "#### Renaming the header of the CSV file"
   ]
  },
  {
   "cell_type": "code",
   "execution_count": 4,
   "metadata": {},
   "outputs": [
    {
     "data": {
      "text/html": [
       "<div>\n",
       "<style scoped>\n",
       "    .dataframe tbody tr th:only-of-type {\n",
       "        vertical-align: middle;\n",
       "    }\n",
       "\n",
       "    .dataframe tbody tr th {\n",
       "        vertical-align: top;\n",
       "    }\n",
       "\n",
       "    .dataframe thead th {\n",
       "        text-align: right;\n",
       "    }\n",
       "</style>\n",
       "<table border=\"1\" class=\"dataframe\">\n",
       "  <thead>\n",
       "    <tr style=\"text-align: right;\">\n",
       "      <th></th>\n",
       "      <th>fixed_acidity</th>\n",
       "      <th>volatile_acidity</th>\n",
       "      <th>citric_acid</th>\n",
       "      <th>residual_sugar</th>\n",
       "      <th>chlorides</th>\n",
       "      <th>free_sulfur_dioxide</th>\n",
       "      <th>total_sulfur_dioxide</th>\n",
       "      <th>density</th>\n",
       "      <th>pH</th>\n",
       "      <th>sulphates</th>\n",
       "      <th>alcohol</th>\n",
       "      <th>quality</th>\n",
       "      <th>type</th>\n",
       "    </tr>\n",
       "  </thead>\n",
       "  <tbody>\n",
       "    <tr>\n",
       "      <th>0</th>\n",
       "      <td>7.4</td>\n",
       "      <td>0.70</td>\n",
       "      <td>0.00</td>\n",
       "      <td>1.9</td>\n",
       "      <td>0.076</td>\n",
       "      <td>11.0</td>\n",
       "      <td>34.0</td>\n",
       "      <td>0.9978</td>\n",
       "      <td>3.51</td>\n",
       "      <td>0.56</td>\n",
       "      <td>9.4</td>\n",
       "      <td>5</td>\n",
       "      <td>1</td>\n",
       "    </tr>\n",
       "    <tr>\n",
       "      <th>1</th>\n",
       "      <td>7.8</td>\n",
       "      <td>0.88</td>\n",
       "      <td>0.00</td>\n",
       "      <td>2.6</td>\n",
       "      <td>0.098</td>\n",
       "      <td>25.0</td>\n",
       "      <td>67.0</td>\n",
       "      <td>0.9968</td>\n",
       "      <td>3.20</td>\n",
       "      <td>0.68</td>\n",
       "      <td>9.8</td>\n",
       "      <td>5</td>\n",
       "      <td>1</td>\n",
       "    </tr>\n",
       "    <tr>\n",
       "      <th>2</th>\n",
       "      <td>7.8</td>\n",
       "      <td>0.76</td>\n",
       "      <td>0.04</td>\n",
       "      <td>2.3</td>\n",
       "      <td>0.092</td>\n",
       "      <td>15.0</td>\n",
       "      <td>54.0</td>\n",
       "      <td>0.9970</td>\n",
       "      <td>3.26</td>\n",
       "      <td>0.65</td>\n",
       "      <td>9.8</td>\n",
       "      <td>5</td>\n",
       "      <td>1</td>\n",
       "    </tr>\n",
       "    <tr>\n",
       "      <th>3</th>\n",
       "      <td>11.2</td>\n",
       "      <td>0.28</td>\n",
       "      <td>0.56</td>\n",
       "      <td>1.9</td>\n",
       "      <td>0.075</td>\n",
       "      <td>17.0</td>\n",
       "      <td>60.0</td>\n",
       "      <td>0.9980</td>\n",
       "      <td>3.16</td>\n",
       "      <td>0.58</td>\n",
       "      <td>9.8</td>\n",
       "      <td>6</td>\n",
       "      <td>1</td>\n",
       "    </tr>\n",
       "    <tr>\n",
       "      <th>4</th>\n",
       "      <td>7.4</td>\n",
       "      <td>0.70</td>\n",
       "      <td>0.00</td>\n",
       "      <td>1.9</td>\n",
       "      <td>0.076</td>\n",
       "      <td>11.0</td>\n",
       "      <td>34.0</td>\n",
       "      <td>0.9978</td>\n",
       "      <td>3.51</td>\n",
       "      <td>0.56</td>\n",
       "      <td>9.4</td>\n",
       "      <td>5</td>\n",
       "      <td>1</td>\n",
       "    </tr>\n",
       "  </tbody>\n",
       "</table>\n",
       "</div>"
      ],
      "text/plain": [
       "   fixed_acidity  volatile_acidity  citric_acid  residual_sugar  chlorides  \\\n",
       "0            7.4              0.70         0.00             1.9      0.076   \n",
       "1            7.8              0.88         0.00             2.6      0.098   \n",
       "2            7.8              0.76         0.04             2.3      0.092   \n",
       "3           11.2              0.28         0.56             1.9      0.075   \n",
       "4            7.4              0.70         0.00             1.9      0.076   \n",
       "\n",
       "   free_sulfur_dioxide  total_sulfur_dioxide  density    pH  sulphates  \\\n",
       "0                 11.0                  34.0   0.9978  3.51       0.56   \n",
       "1                 25.0                  67.0   0.9968  3.20       0.68   \n",
       "2                 15.0                  54.0   0.9970  3.26       0.65   \n",
       "3                 17.0                  60.0   0.9980  3.16       0.58   \n",
       "4                 11.0                  34.0   0.9978  3.51       0.56   \n",
       "\n",
       "   alcohol  quality  type  \n",
       "0      9.4        5     1  \n",
       "1      9.8        5     1  \n",
       "2      9.8        5     1  \n",
       "3      9.8        6     1  \n",
       "4      9.4        5     1  "
      ]
     },
     "execution_count": 4,
     "metadata": {},
     "output_type": "execute_result"
    }
   ],
   "source": [
    "dataset = dataset.rename(columns={'fixed acidity': 'fixed_acidity', 'volatile acidity': 'volatile_acidity', 'citric acid': 'citric_acid',\n",
    "                         'residual sugar': 'residual_sugar', 'free sulfur dioxide': 'free_sulfur_dioxide', 'total sulfur dioxide':'total_sulfur_dioxide'})\n",
    "dataset.head()"
   ]
  },
  {
   "cell_type": "markdown",
   "metadata": {},
   "source": [
    "#### Wine Quality Categorizing"
   ]
  },
  {
   "cell_type": "code",
   "execution_count": 5,
   "metadata": {},
   "outputs": [
    {
     "data": {
      "text/html": [
       "<div>\n",
       "<style scoped>\n",
       "    .dataframe tbody tr th:only-of-type {\n",
       "        vertical-align: middle;\n",
       "    }\n",
       "\n",
       "    .dataframe tbody tr th {\n",
       "        vertical-align: top;\n",
       "    }\n",
       "\n",
       "    .dataframe thead th {\n",
       "        text-align: right;\n",
       "    }\n",
       "</style>\n",
       "<table border=\"1\" class=\"dataframe\">\n",
       "  <thead>\n",
       "    <tr style=\"text-align: right;\">\n",
       "      <th></th>\n",
       "      <th>fixed_acidity</th>\n",
       "      <th>volatile_acidity</th>\n",
       "      <th>citric_acid</th>\n",
       "      <th>residual_sugar</th>\n",
       "      <th>chlorides</th>\n",
       "      <th>free_sulfur_dioxide</th>\n",
       "      <th>total_sulfur_dioxide</th>\n",
       "      <th>density</th>\n",
       "      <th>pH</th>\n",
       "      <th>sulphates</th>\n",
       "      <th>alcohol</th>\n",
       "      <th>quality</th>\n",
       "      <th>type</th>\n",
       "      <th>label</th>\n",
       "    </tr>\n",
       "  </thead>\n",
       "  <tbody>\n",
       "    <tr>\n",
       "      <th>0</th>\n",
       "      <td>7.4</td>\n",
       "      <td>0.70</td>\n",
       "      <td>0.00</td>\n",
       "      <td>1.9</td>\n",
       "      <td>0.076</td>\n",
       "      <td>11.0</td>\n",
       "      <td>34.0</td>\n",
       "      <td>0.9978</td>\n",
       "      <td>3.51</td>\n",
       "      <td>0.56</td>\n",
       "      <td>9.4</td>\n",
       "      <td>5</td>\n",
       "      <td>1</td>\n",
       "      <td>1</td>\n",
       "    </tr>\n",
       "    <tr>\n",
       "      <th>1</th>\n",
       "      <td>7.8</td>\n",
       "      <td>0.88</td>\n",
       "      <td>0.00</td>\n",
       "      <td>2.6</td>\n",
       "      <td>0.098</td>\n",
       "      <td>25.0</td>\n",
       "      <td>67.0</td>\n",
       "      <td>0.9968</td>\n",
       "      <td>3.20</td>\n",
       "      <td>0.68</td>\n",
       "      <td>9.8</td>\n",
       "      <td>5</td>\n",
       "      <td>1</td>\n",
       "      <td>1</td>\n",
       "    </tr>\n",
       "    <tr>\n",
       "      <th>2</th>\n",
       "      <td>7.8</td>\n",
       "      <td>0.76</td>\n",
       "      <td>0.04</td>\n",
       "      <td>2.3</td>\n",
       "      <td>0.092</td>\n",
       "      <td>15.0</td>\n",
       "      <td>54.0</td>\n",
       "      <td>0.9970</td>\n",
       "      <td>3.26</td>\n",
       "      <td>0.65</td>\n",
       "      <td>9.8</td>\n",
       "      <td>5</td>\n",
       "      <td>1</td>\n",
       "      <td>1</td>\n",
       "    </tr>\n",
       "    <tr>\n",
       "      <th>3</th>\n",
       "      <td>11.2</td>\n",
       "      <td>0.28</td>\n",
       "      <td>0.56</td>\n",
       "      <td>1.9</td>\n",
       "      <td>0.075</td>\n",
       "      <td>17.0</td>\n",
       "      <td>60.0</td>\n",
       "      <td>0.9980</td>\n",
       "      <td>3.16</td>\n",
       "      <td>0.58</td>\n",
       "      <td>9.8</td>\n",
       "      <td>6</td>\n",
       "      <td>1</td>\n",
       "      <td>1</td>\n",
       "    </tr>\n",
       "    <tr>\n",
       "      <th>4</th>\n",
       "      <td>7.4</td>\n",
       "      <td>0.70</td>\n",
       "      <td>0.00</td>\n",
       "      <td>1.9</td>\n",
       "      <td>0.076</td>\n",
       "      <td>11.0</td>\n",
       "      <td>34.0</td>\n",
       "      <td>0.9978</td>\n",
       "      <td>3.51</td>\n",
       "      <td>0.56</td>\n",
       "      <td>9.4</td>\n",
       "      <td>5</td>\n",
       "      <td>1</td>\n",
       "      <td>1</td>\n",
       "    </tr>\n",
       "  </tbody>\n",
       "</table>\n",
       "</div>"
      ],
      "text/plain": [
       "   fixed_acidity  volatile_acidity  citric_acid  residual_sugar  chlorides  \\\n",
       "0            7.4              0.70         0.00             1.9      0.076   \n",
       "1            7.8              0.88         0.00             2.6      0.098   \n",
       "2            7.8              0.76         0.04             2.3      0.092   \n",
       "3           11.2              0.28         0.56             1.9      0.075   \n",
       "4            7.4              0.70         0.00             1.9      0.076   \n",
       "\n",
       "   free_sulfur_dioxide  total_sulfur_dioxide  density    pH  sulphates  \\\n",
       "0                 11.0                  34.0   0.9978  3.51       0.56   \n",
       "1                 25.0                  67.0   0.9968  3.20       0.68   \n",
       "2                 15.0                  54.0   0.9970  3.26       0.65   \n",
       "3                 17.0                  60.0   0.9980  3.16       0.58   \n",
       "4                 11.0                  34.0   0.9978  3.51       0.56   \n",
       "\n",
       "   alcohol  quality  type  label  \n",
       "0      9.4        5     1      1  \n",
       "1      9.8        5     1      1  \n",
       "2      9.8        5     1      1  \n",
       "3      9.8        6     1      1  \n",
       "4      9.4        5     1      1  "
      ]
     },
     "execution_count": 5,
     "metadata": {},
     "output_type": "execute_result"
    }
   ],
   "source": [
    "wine_table = []\n",
    "\n",
    "for i in dataset.quality:\n",
    "    if i <= 4:\n",
    "        wine_table.append(0) #Table Wine\n",
    "    elif i >= 7:\n",
    "        wine_table.append(2) #Fine Wine\n",
    "    else:\n",
    "        wine_table.append(1) #Premium Wine     \n",
    "dataset['label'] = wine_table\n",
    "dataset.head()\n",
    "        "
   ]
  },
  {
   "cell_type": "markdown",
   "metadata": {},
   "source": [
    "## Dataset Spliting"
   ]
  },
  {
   "cell_type": "code",
   "execution_count": 6,
   "metadata": {},
   "outputs": [],
   "source": [
    "x=dataset.iloc[1:q, 0: 11].values\n",
    "y=dataset.iloc[1:q, -1].values\n",
    "from sklearn.model_selection import train_test_split\n",
    "x_train, x_test, y_train, y_test=train_test_split(x,y,test_size=0.2,random_state=0)"
   ]
  },
  {
   "cell_type": "code",
   "execution_count": 7,
   "metadata": {},
   "outputs": [
    {
     "name": "stdout",
     "output_type": "stream",
     "text": [
      "[[ 7.8    0.88   0.    ...  3.2    0.68   9.8  ]\n",
      " [ 7.8    0.76   0.04  ...  3.26   0.65   9.8  ]\n",
      " [11.2    0.28   0.56  ...  3.16   0.58   9.8  ]\n",
      " ...\n",
      " [ 6.9    0.74   0.03  ...  3.45   0.63  11.5  ]\n",
      " [ 6.6    0.895  0.04  ...  3.53   0.58  10.8  ]\n",
      " [ 6.9    0.74   0.03  ...  3.45   0.63  11.5  ]]\n"
     ]
    }
   ],
   "source": [
    "print(x)"
   ]
  },
  {
   "cell_type": "code",
   "execution_count": 8,
   "metadata": {},
   "outputs": [
    {
     "name": "stdout",
     "output_type": "stream",
     "text": [
      "[1 1 1 ... 1 1 1]\n"
     ]
    }
   ],
   "source": [
    "print(y)"
   ]
  },
  {
   "cell_type": "markdown",
   "metadata": {},
   "source": [
    "#### Data Standardzing "
   ]
  },
  {
   "cell_type": "code",
   "execution_count": 9,
   "metadata": {},
   "outputs": [],
   "source": [
    "from sklearn.preprocessing import StandardScaler\n",
    "sc=StandardScaler()\n",
    "x_train=sc.fit_transform(x_train)\n",
    "x_test=sc.transform(x_test)"
   ]
  },
  {
   "cell_type": "markdown",
   "metadata": {},
   "source": [
    "## Building the ANN"
   ]
  },
  {
   "cell_type": "code",
   "execution_count": 10,
   "metadata": {},
   "outputs": [],
   "source": [
    "ann=tf.keras.models.Sequential()"
   ]
  },
  {
   "cell_type": "code",
   "execution_count": 11,
   "metadata": {},
   "outputs": [],
   "source": [
    "ann.add(tf.keras.layers.Dense(units=12,activation='relu'))"
   ]
  },
  {
   "cell_type": "code",
   "execution_count": 12,
   "metadata": {},
   "outputs": [],
   "source": [
    "ann.add(tf.keras.layers.Dense(units=15,activation='relu'))"
   ]
  },
  {
   "cell_type": "code",
   "execution_count": 13,
   "metadata": {},
   "outputs": [],
   "source": [
    "ann.add(tf.keras.layers.Dense(units=15,activation='relu'))"
   ]
  },
  {
   "cell_type": "code",
   "execution_count": 14,
   "metadata": {},
   "outputs": [],
   "source": [
    "ann.add(tf.keras.layers.Dense(units=15,activation='relu'))"
   ]
  },
  {
   "cell_type": "code",
   "execution_count": 15,
   "metadata": {},
   "outputs": [],
   "source": [
    "ann.add(tf.keras.layers.Dense(units=12,activation='relu'))"
   ]
  },
  {
   "cell_type": "code",
   "execution_count": 16,
   "metadata": {},
   "outputs": [],
   "source": [
    "ann.add(tf.keras.layers.Dense(units=1,activation='relu'))"
   ]
  },
  {
   "cell_type": "markdown",
   "metadata": {},
   "source": [
    "## Training the ANN"
   ]
  },
  {
   "cell_type": "code",
   "execution_count": 17,
   "metadata": {},
   "outputs": [],
   "source": [
    "ann.compile(optimizer='adam',loss='binary_crossentropy',metrics=['accuracy'])"
   ]
  },
  {
   "cell_type": "code",
   "execution_count": 18,
   "metadata": {},
   "outputs": [
    {
     "name": "stdout",
     "output_type": "stream",
     "text": [
      "Epoch 1/100\n",
      "38/38 [==============================] - 0s 1ms/step - loss: 1.0451 - accuracy: 0.2585\n",
      "Epoch 2/100\n",
      "38/38 [==============================] - 0s 1ms/step - loss: -1.4745 - accuracy: 0.7556\n",
      "Epoch 3/100\n",
      "38/38 [==============================] - 0s 1ms/step - loss: -1.5846 - accuracy: 0.8207\n",
      "Epoch 4/100\n",
      "38/38 [==============================] - 0s 1ms/step - loss: -1.5925 - accuracy: 0.8207\n",
      "Epoch 5/100\n",
      "38/38 [==============================] - 0s 1ms/step - loss: -1.5898 - accuracy: 0.8207\n",
      "Epoch 6/100\n",
      "38/38 [==============================] - 0s 1ms/step - loss: -1.5946 - accuracy: 0.8207\n",
      "Epoch 7/100\n",
      "38/38 [==============================] - 0s 1ms/step - loss: -1.5548 - accuracy: 0.8057\n",
      "Epoch 8/100\n",
      "38/38 [==============================] - 0s 1ms/step - loss: -1.5668 - accuracy: 0.8098\n",
      "Epoch 9/100\n",
      "38/38 [==============================] - 0s 1ms/step - loss: -1.5852 - accuracy: 0.8182\n",
      "Epoch 10/100\n",
      "38/38 [==============================] - 0s 1ms/step - loss: -1.6172 - accuracy: 0.8207\n",
      "Epoch 11/100\n",
      "38/38 [==============================] - 0s 1ms/step - loss: -1.6281 - accuracy: 0.8207\n",
      "Epoch 12/100\n",
      "38/38 [==============================] - 0s 1ms/step - loss: -1.6369 - accuracy: 0.8207\n",
      "Epoch 13/100\n",
      "38/38 [==============================] - 0s 1ms/step - loss: -1.6610 - accuracy: 0.8207\n",
      "Epoch 14/100\n",
      "38/38 [==============================] - 0s 1ms/step - loss: -1.6657 - accuracy: 0.8207\n",
      "Epoch 15/100\n",
      "38/38 [==============================] - 0s 1ms/step - loss: -1.6668 - accuracy: 0.8207\n",
      "Epoch 16/100\n",
      "38/38 [==============================] - 0s 1ms/step - loss: -1.6667 - accuracy: 0.8207\n",
      "Epoch 17/100\n",
      "38/38 [==============================] - 0s 1ms/step - loss: -1.6703 - accuracy: 0.8207\n",
      "Epoch 18/100\n",
      "38/38 [==============================] - 0s 1ms/step - loss: -1.6742 - accuracy: 0.8207\n",
      "Epoch 19/100\n",
      "38/38 [==============================] - 0s 1ms/step - loss: -1.6764 - accuracy: 0.8207\n",
      "Epoch 20/100\n",
      "38/38 [==============================] - 0s 1ms/step - loss: -1.6779 - accuracy: 0.8207\n",
      "Epoch 21/100\n",
      "38/38 [==============================] - 0s 999us/step - loss: -1.6790 - accuracy: 0.8207\n",
      "Epoch 22/100\n",
      "38/38 [==============================] - 0s 1ms/step - loss: -1.6807 - accuracy: 0.8207\n",
      "Epoch 23/100\n",
      "38/38 [==============================] - 0s 1ms/step - loss: -1.6822 - accuracy: 0.8207\n",
      "Epoch 24/100\n",
      "38/38 [==============================] - 0s 1ms/step - loss: -1.6833 - accuracy: 0.8207\n",
      "Epoch 25/100\n",
      "38/38 [==============================] - 0s 1ms/step - loss: -1.6934 - accuracy: 0.8207\n",
      "Epoch 26/100\n",
      "38/38 [==============================] - 0s 1ms/step - loss: -1.6950 - accuracy: 0.8207\n",
      "Epoch 27/100\n",
      "38/38 [==============================] - 0s 1ms/step - loss: -1.6872 - accuracy: 0.8207\n",
      "Epoch 28/100\n",
      "38/38 [==============================] - 0s 1ms/step - loss: -1.6750 - accuracy: 0.8207\n",
      "Epoch 29/100\n",
      "38/38 [==============================] - 0s 1ms/step - loss: -1.6390 - accuracy: 0.8198\n",
      "Epoch 30/100\n",
      "38/38 [==============================] - 0s 1ms/step - loss: -1.5649 - accuracy: 0.8040\n",
      "Epoch 31/100\n",
      "38/38 [==============================] - 0s 1ms/step - loss: -1.6121 - accuracy: 0.8173\n",
      "Epoch 32/100\n",
      "38/38 [==============================] - 0s 1ms/step - loss: -1.6511 - accuracy: 0.8207\n",
      "Epoch 33/100\n",
      "38/38 [==============================] - 0s 1ms/step - loss: -1.6679 - accuracy: 0.8190\n",
      "Epoch 34/100\n",
      "38/38 [==============================] - 0s 1ms/step - loss: -1.7459 - accuracy: 0.8190\n",
      "Epoch 35/100\n",
      "38/38 [==============================] - 0s 1ms/step - loss: -1.7610 - accuracy: 0.8182\n",
      "Epoch 36/100\n",
      "38/38 [==============================] - 0s 1ms/step - loss: -1.7665 - accuracy: 0.8190\n",
      "Epoch 37/100\n",
      "38/38 [==============================] - 0s 1ms/step - loss: -1.7780 - accuracy: 0.8190\n",
      "Epoch 38/100\n",
      "38/38 [==============================] - 0s 1ms/step - loss: -1.7706 - accuracy: 0.8182\n",
      "Epoch 39/100\n",
      "38/38 [==============================] - 0s 1ms/step - loss: -1.7914 - accuracy: 0.8190\n",
      "Epoch 40/100\n",
      "38/38 [==============================] - 0s 1ms/step - loss: -1.7827 - accuracy: 0.8190\n",
      "Epoch 41/100\n",
      "38/38 [==============================] - 0s 1ms/step - loss: -1.7826 - accuracy: 0.8190\n",
      "Epoch 42/100\n",
      "38/38 [==============================] - 0s 1ms/step - loss: -1.7832 - accuracy: 0.8190\n",
      "Epoch 43/100\n",
      "38/38 [==============================] - 0s 1ms/step - loss: -1.6667 - accuracy: 0.8023\n",
      "Epoch 44/100\n",
      "38/38 [==============================] - 0s 2ms/step - loss: -1.5537 - accuracy: 0.7723\n",
      "Epoch 45/100\n",
      "38/38 [==============================] - 0s 2ms/step - loss: -1.6809 - accuracy: 0.8007\n",
      "Epoch 46/100\n",
      "38/38 [==============================] - 0s 2ms/step - loss: -1.7505 - accuracy: 0.8140\n",
      "Epoch 47/100\n",
      "38/38 [==============================] - 0s 2ms/step - loss: -1.7695 - accuracy: 0.8173\n",
      "Epoch 48/100\n",
      "38/38 [==============================] - 0s 2ms/step - loss: -1.7736 - accuracy: 0.8190\n",
      "Epoch 49/100\n",
      "38/38 [==============================] - 0s 2ms/step - loss: -1.7855 - accuracy: 0.8190\n",
      "Epoch 50/100\n",
      "38/38 [==============================] - 0s 2ms/step - loss: -1.7868 - accuracy: 0.8190\n",
      "Epoch 51/100\n",
      "38/38 [==============================] - 0s 2ms/step - loss: -1.7877 - accuracy: 0.8190\n",
      "Epoch 52/100\n",
      "38/38 [==============================] - 0s 2ms/step - loss: -1.7889 - accuracy: 0.8190\n",
      "Epoch 53/100\n",
      "38/38 [==============================] - 0s 2ms/step - loss: -1.7896 - accuracy: 0.8198\n",
      "Epoch 54/100\n",
      "38/38 [==============================] - 0s 2ms/step - loss: -1.7900 - accuracy: 0.8207\n",
      "Epoch 55/100\n",
      "38/38 [==============================] - 0s 1ms/step - loss: -1.7910 - accuracy: 0.8215\n",
      "Epoch 56/100\n",
      "38/38 [==============================] - 0s 1ms/step - loss: -1.7919 - accuracy: 0.8215\n",
      "Epoch 57/100\n",
      "38/38 [==============================] - 0s 1ms/step - loss: -1.7925 - accuracy: 0.8215\n",
      "Epoch 58/100\n",
      "38/38 [==============================] - 0s 1ms/step - loss: -1.7932 - accuracy: 0.8190\n",
      "Epoch 59/100\n",
      "38/38 [==============================] - 0s 2ms/step - loss: -1.7936 - accuracy: 0.8190\n",
      "Epoch 60/100\n",
      "38/38 [==============================] - 0s 1ms/step - loss: -1.7940 - accuracy: 0.8198\n",
      "Epoch 61/100\n",
      "38/38 [==============================] - 0s 2ms/step - loss: -1.7947 - accuracy: 0.8190\n",
      "Epoch 62/100\n",
      "38/38 [==============================] - 0s 2ms/step - loss: -1.7949 - accuracy: 0.8198\n",
      "Epoch 63/100\n",
      "38/38 [==============================] - 0s 1ms/step - loss: -1.7957 - accuracy: 0.8190\n",
      "Epoch 64/100\n",
      "38/38 [==============================] - 0s 1ms/step - loss: -1.7961 - accuracy: 0.8190\n",
      "Epoch 65/100\n",
      "38/38 [==============================] - 0s 1ms/step - loss: -1.7967 - accuracy: 0.8198\n",
      "Epoch 66/100\n",
      "38/38 [==============================] - 0s 1ms/step - loss: -1.7971 - accuracy: 0.8198\n",
      "Epoch 67/100\n",
      "38/38 [==============================] - 0s 1ms/step - loss: -1.7977 - accuracy: 0.8198\n",
      "Epoch 68/100\n",
      "38/38 [==============================] - 0s 1ms/step - loss: -1.7981 - accuracy: 0.8198\n",
      "Epoch 69/100\n",
      "38/38 [==============================] - 0s 1ms/step - loss: -1.7986 - accuracy: 0.8207\n",
      "Epoch 70/100\n",
      "38/38 [==============================] - 0s 1ms/step - loss: -1.7993 - accuracy: 0.8198\n",
      "Epoch 71/100\n",
      "38/38 [==============================] - 0s 1ms/step - loss: -1.7998 - accuracy: 0.8198\n",
      "Epoch 72/100\n",
      "38/38 [==============================] - 0s 1ms/step - loss: -1.8103 - accuracy: 0.8198\n",
      "Epoch 73/100\n",
      "38/38 [==============================] - 0s 1ms/step - loss: -1.8107 - accuracy: 0.8198\n",
      "Epoch 74/100\n",
      "38/38 [==============================] - 0s 1ms/step - loss: -1.8109 - accuracy: 0.8198\n",
      "Epoch 75/100\n",
      "38/38 [==============================] - 0s 1ms/step - loss: -1.8112 - accuracy: 0.8198\n",
      "Epoch 76/100\n",
      "38/38 [==============================] - 0s 1ms/step - loss: -1.8114 - accuracy: 0.8207\n",
      "Epoch 77/100\n",
      "38/38 [==============================] - 0s 1ms/step - loss: -1.8116 - accuracy: 0.8198\n",
      "Epoch 78/100\n",
      "38/38 [==============================] - 0s 1ms/step - loss: -1.8117 - accuracy: 0.8207\n",
      "Epoch 79/100\n",
      "38/38 [==============================] - 0s 1ms/step - loss: -1.8119 - accuracy: 0.8198\n",
      "Epoch 80/100\n",
      "38/38 [==============================] - 0s 1ms/step - loss: -1.8118 - accuracy: 0.8207\n",
      "Epoch 81/100\n",
      "38/38 [==============================] - 0s 1ms/step - loss: -1.8122 - accuracy: 0.8207\n",
      "Epoch 82/100\n"
     ]
    },
    {
     "name": "stdout",
     "output_type": "stream",
     "text": [
      "38/38 [==============================] - 0s 1ms/step - loss: -1.8124 - accuracy: 0.8207\n",
      "Epoch 83/100\n",
      "38/38 [==============================] - 0s 1ms/step - loss: -1.8125 - accuracy: 0.8207\n",
      "Epoch 84/100\n",
      "38/38 [==============================] - 0s 1ms/step - loss: -1.8127 - accuracy: 0.8207\n",
      "Epoch 85/100\n",
      "38/38 [==============================] - 0s 1ms/step - loss: -1.8129 - accuracy: 0.8207\n",
      "Epoch 86/100\n",
      "38/38 [==============================] - 0s 973us/step - loss: -1.8130 - accuracy: 0.8215\n",
      "Epoch 87/100\n",
      "38/38 [==============================] - 0s 1ms/step - loss: -1.8132 - accuracy: 0.8207\n",
      "Epoch 88/100\n",
      "38/38 [==============================] - 0s 1ms/step - loss: -1.8133 - accuracy: 0.8224\n",
      "Epoch 89/100\n",
      "38/38 [==============================] - 0s 1ms/step - loss: -1.8135 - accuracy: 0.8224\n",
      "Epoch 90/100\n",
      "38/38 [==============================] - 0s 1ms/step - loss: -1.8137 - accuracy: 0.8232\n",
      "Epoch 91/100\n",
      "38/38 [==============================] - 0s 2ms/step - loss: -1.8138 - accuracy: 0.8232\n",
      "Epoch 92/100\n",
      "38/38 [==============================] - 0s 1ms/step - loss: -1.8139 - accuracy: 0.8232\n",
      "Epoch 93/100\n",
      "38/38 [==============================] - 0s 1ms/step - loss: -1.8139 - accuracy: 0.8232\n",
      "Epoch 94/100\n",
      "38/38 [==============================] - 0s 1ms/step - loss: -1.8142 - accuracy: 0.8232\n",
      "Epoch 95/100\n",
      "38/38 [==============================] - 0s 1ms/step - loss: -1.8144 - accuracy: 0.8232\n",
      "Epoch 96/100\n",
      "38/38 [==============================] - 0s 1ms/step - loss: -1.8145 - accuracy: 0.8232\n",
      "Epoch 97/100\n",
      "38/38 [==============================] - 0s 1ms/step - loss: -1.8147 - accuracy: 0.8232\n",
      "Epoch 98/100\n",
      "38/38 [==============================] - 0s 1ms/step - loss: -1.8148 - accuracy: 0.8232\n",
      "Epoch 99/100\n",
      "38/38 [==============================] - 0s 1ms/step - loss: -1.8149 - accuracy: 0.8232\n",
      "Epoch 100/100\n",
      "38/38 [==============================] - 0s 1ms/step - loss: -1.8151 - accuracy: 0.8232\n"
     ]
    }
   ],
   "source": [
    "train=ann.fit(x_train,y_train,batch_size=32,epochs=100)"
   ]
  },
  {
   "cell_type": "code",
   "execution_count": 19,
   "metadata": {},
   "outputs": [
    {
     "data": {
      "text/plain": [
       "[<matplotlib.lines.Line2D at 0x2c0a87bb588>]"
      ]
     },
     "execution_count": 19,
     "metadata": {},
     "output_type": "execute_result"
    },
    {
     "data": {
      "image/png": "[encoded data removed]",
      "text/plain": [
       "<Figure size 432x288 with 1 Axes>"
      ]
     },
     "metadata": {
      "needs_background": "light"
     },
     "output_type": "display_data"
    }
   ],
   "source": [
    "plt.xlabel('Epoch Number')\n",
    "plt.ylabel('Loss Magnitude')\n",
    "plt.plot(train.history['accuracy'])"
   ]
  },
  {
   "cell_type": "code",
   "execution_count": null,
   "metadata": {},
   "outputs": [],
   "source": []
  },
  {
   "cell_type": "code",
   "execution_count": null,
   "metadata": {},
   "outputs": [],
   "source": []
  }
 ],
 "metadata": {
  "kernelspec": {
   "display_name": "Python 3",
   "language": "python",
   "name": "python3"
  },
  "language_info": {
   "codemirror_mode": {
    "name": "ipython",
    "version": 3
   },
   "file_extension": ".py",
   "mimetype": "text/x-python",
   "name": "python",
   "nbconvert_exporter": "python",
   "pygments_lexer": "ipython3",
   "version": "3.7.10"
  }
 },
 "nbformat": 4,
 "nbformat_minor": 4
}
